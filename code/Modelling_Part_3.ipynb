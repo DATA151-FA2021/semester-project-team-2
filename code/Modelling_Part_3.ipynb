{
  "nbformat": 4,
  "nbformat_minor": 0,
  "metadata": {
    "colab": {
      "name": "Modelling Part 3",
      "provenance": []
    },
    "kernelspec": {
      "name": "python3",
      "display_name": "Python 3"
    },
    "language_info": {
      "name": "python"
    }
  },
  "cells": [
    {
      "cell_type": "code",
      "metadata": {
        "id": "60ZY5cW7eADh"
      },
      "source": [
        "from imblearn.over_sampling import RandomOverSampler, SMOTE\n",
        "from imblearn.under_sampling import RandomUnderSampler\n",
        "import graphviz\n",
        "import matplotlib.pyplot as plt\n",
        "import numpy as np\n",
        "import pandas as pd\n",
        "import seaborn as sns\n",
        "from sklearn.datasets import load_iris\n",
        "from sklearn import metrics\n",
        "from sklearn.model_selection import train_test_split\n",
        "from sklearn.preprocessing import LabelEncoder\n",
        "from sklearn.tree import DecisionTreeClassifier, export_graphviz"
      ],
      "execution_count": 1,
      "outputs": []
    },
    {
      "cell_type": "code",
      "metadata": {
        "id": "zUNZafd-ijb7"
      },
      "source": [
        "df = pd.read_csv('Numerical_data(No Zero).csv')"
      ],
      "execution_count": 2,
      "outputs": []
    },
    {
      "cell_type": "code",
      "metadata": {
        "colab": {
          "base_uri": "https://localhost:8080/",
          "height": 478
        },
        "id": "8su17pDAipwa",
        "outputId": "c6cbecd8-a842-4b76-9335-a9615e02f3c2"
      },
      "source": [
        "df"
      ],
      "execution_count": 3,
      "outputs": [
        {
          "output_type": "execute_result",
          "data": {
            "text/html": [
              "<div>\n",
              "<style scoped>\n",
              "    .dataframe tbody tr th:only-of-type {\n",
              "        vertical-align: middle;\n",
              "    }\n",
              "\n",
              "    .dataframe tbody tr th {\n",
              "        vertical-align: top;\n",
              "    }\n",
              "\n",
              "    .dataframe thead th {\n",
              "        text-align: right;\n",
              "    }\n",
              "</style>\n",
              "<table border=\"1\" class=\"dataframe\">\n",
              "  <thead>\n",
              "    <tr style=\"text-align: right;\">\n",
              "      <th></th>\n",
              "      <th>Unnamed: 0</th>\n",
              "      <th>Unnamed: 0.1</th>\n",
              "      <th>Nr. reviews</th>\n",
              "      <th>Nr. hotel reviews</th>\n",
              "      <th>Helpful votes</th>\n",
              "      <th>Score</th>\n",
              "      <th>Hotel stars</th>\n",
              "      <th>Nr. rooms</th>\n",
              "      <th>Member years</th>\n",
              "      <th>Num Traveler type</th>\n",
              "      <th>Num User country</th>\n",
              "      <th>Num Hotel name</th>\n",
              "      <th>Dummy Pool</th>\n",
              "      <th>Dummy Gym</th>\n",
              "      <th>Dummy Tennis</th>\n",
              "      <th>Dummy Spa</th>\n",
              "      <th>Dummy Casino</th>\n",
              "      <th>Dummy Free Internet</th>\n",
              "      <th>Num Review month</th>\n",
              "      <th>Num User continent</th>\n",
              "    </tr>\n",
              "  </thead>\n",
              "  <tbody>\n",
              "    <tr>\n",
              "      <th>0</th>\n",
              "      <td>0</td>\n",
              "      <td>0</td>\n",
              "      <td>11</td>\n",
              "      <td>4</td>\n",
              "      <td>13</td>\n",
              "      <td>5</td>\n",
              "      <td>3.0</td>\n",
              "      <td>3773</td>\n",
              "      <td>9</td>\n",
              "      <td>1</td>\n",
              "      <td>1</td>\n",
              "      <td>1</td>\n",
              "      <td>0</td>\n",
              "      <td>1</td>\n",
              "      <td>0</td>\n",
              "      <td>0</td>\n",
              "      <td>1</td>\n",
              "      <td>1</td>\n",
              "      <td>1</td>\n",
              "      <td>1</td>\n",
              "    </tr>\n",
              "    <tr>\n",
              "      <th>1</th>\n",
              "      <td>1</td>\n",
              "      <td>1</td>\n",
              "      <td>119</td>\n",
              "      <td>21</td>\n",
              "      <td>75</td>\n",
              "      <td>3</td>\n",
              "      <td>3.0</td>\n",
              "      <td>3773</td>\n",
              "      <td>3</td>\n",
              "      <td>2</td>\n",
              "      <td>1</td>\n",
              "      <td>1</td>\n",
              "      <td>0</td>\n",
              "      <td>1</td>\n",
              "      <td>0</td>\n",
              "      <td>0</td>\n",
              "      <td>1</td>\n",
              "      <td>1</td>\n",
              "      <td>1</td>\n",
              "      <td>1</td>\n",
              "    </tr>\n",
              "    <tr>\n",
              "      <th>2</th>\n",
              "      <td>2</td>\n",
              "      <td>2</td>\n",
              "      <td>36</td>\n",
              "      <td>9</td>\n",
              "      <td>25</td>\n",
              "      <td>5</td>\n",
              "      <td>3.0</td>\n",
              "      <td>3773</td>\n",
              "      <td>2</td>\n",
              "      <td>3</td>\n",
              "      <td>1</td>\n",
              "      <td>1</td>\n",
              "      <td>0</td>\n",
              "      <td>1</td>\n",
              "      <td>0</td>\n",
              "      <td>0</td>\n",
              "      <td>1</td>\n",
              "      <td>1</td>\n",
              "      <td>2</td>\n",
              "      <td>1</td>\n",
              "    </tr>\n",
              "    <tr>\n",
              "      <th>3</th>\n",
              "      <td>3</td>\n",
              "      <td>3</td>\n",
              "      <td>14</td>\n",
              "      <td>7</td>\n",
              "      <td>14</td>\n",
              "      <td>4</td>\n",
              "      <td>3.0</td>\n",
              "      <td>3773</td>\n",
              "      <td>6</td>\n",
              "      <td>1</td>\n",
              "      <td>2</td>\n",
              "      <td>1</td>\n",
              "      <td>0</td>\n",
              "      <td>1</td>\n",
              "      <td>0</td>\n",
              "      <td>0</td>\n",
              "      <td>1</td>\n",
              "      <td>1</td>\n",
              "      <td>2</td>\n",
              "      <td>2</td>\n",
              "    </tr>\n",
              "    <tr>\n",
              "      <th>4</th>\n",
              "      <td>4</td>\n",
              "      <td>4</td>\n",
              "      <td>5</td>\n",
              "      <td>5</td>\n",
              "      <td>2</td>\n",
              "      <td>4</td>\n",
              "      <td>3.0</td>\n",
              "      <td>3773</td>\n",
              "      <td>7</td>\n",
              "      <td>5</td>\n",
              "      <td>3</td>\n",
              "      <td>1</td>\n",
              "      <td>0</td>\n",
              "      <td>1</td>\n",
              "      <td>0</td>\n",
              "      <td>0</td>\n",
              "      <td>1</td>\n",
              "      <td>1</td>\n",
              "      <td>3</td>\n",
              "      <td>1</td>\n",
              "    </tr>\n",
              "    <tr>\n",
              "      <th>...</th>\n",
              "      <td>...</td>\n",
              "      <td>...</td>\n",
              "      <td>...</td>\n",
              "      <td>...</td>\n",
              "      <td>...</td>\n",
              "      <td>...</td>\n",
              "      <td>...</td>\n",
              "      <td>...</td>\n",
              "      <td>...</td>\n",
              "      <td>...</td>\n",
              "      <td>...</td>\n",
              "      <td>...</td>\n",
              "      <td>...</td>\n",
              "      <td>...</td>\n",
              "      <td>...</td>\n",
              "      <td>...</td>\n",
              "      <td>...</td>\n",
              "      <td>...</td>\n",
              "      <td>...</td>\n",
              "      <td>...</td>\n",
              "    </tr>\n",
              "    <tr>\n",
              "      <th>499</th>\n",
              "      <td>499</td>\n",
              "      <td>499</td>\n",
              "      <td>15</td>\n",
              "      <td>4</td>\n",
              "      <td>8</td>\n",
              "      <td>5</td>\n",
              "      <td>4.0</td>\n",
              "      <td>826</td>\n",
              "      <td>1</td>\n",
              "      <td>4</td>\n",
              "      <td>2</td>\n",
              "      <td>21</td>\n",
              "      <td>1</td>\n",
              "      <td>1</td>\n",
              "      <td>0</td>\n",
              "      <td>1</td>\n",
              "      <td>1</td>\n",
              "      <td>1</td>\n",
              "      <td>10</td>\n",
              "      <td>2</td>\n",
              "    </tr>\n",
              "    <tr>\n",
              "      <th>500</th>\n",
              "      <td>500</td>\n",
              "      <td>500</td>\n",
              "      <td>50</td>\n",
              "      <td>13</td>\n",
              "      <td>29</td>\n",
              "      <td>4</td>\n",
              "      <td>4.0</td>\n",
              "      <td>826</td>\n",
              "      <td>8</td>\n",
              "      <td>4</td>\n",
              "      <td>3</td>\n",
              "      <td>21</td>\n",
              "      <td>1</td>\n",
              "      <td>1</td>\n",
              "      <td>0</td>\n",
              "      <td>1</td>\n",
              "      <td>1</td>\n",
              "      <td>1</td>\n",
              "      <td>11</td>\n",
              "      <td>1</td>\n",
              "    </tr>\n",
              "    <tr>\n",
              "      <th>501</th>\n",
              "      <td>501</td>\n",
              "      <td>501</td>\n",
              "      <td>154</td>\n",
              "      <td>23</td>\n",
              "      <td>31</td>\n",
              "      <td>4</td>\n",
              "      <td>4.0</td>\n",
              "      <td>826</td>\n",
              "      <td>4</td>\n",
              "      <td>1</td>\n",
              "      <td>1</td>\n",
              "      <td>21</td>\n",
              "      <td>1</td>\n",
              "      <td>1</td>\n",
              "      <td>0</td>\n",
              "      <td>1</td>\n",
              "      <td>1</td>\n",
              "      <td>1</td>\n",
              "      <td>11</td>\n",
              "      <td>1</td>\n",
              "    </tr>\n",
              "    <tr>\n",
              "      <th>502</th>\n",
              "      <td>502</td>\n",
              "      <td>502</td>\n",
              "      <td>9</td>\n",
              "      <td>6</td>\n",
              "      <td>5</td>\n",
              "      <td>2</td>\n",
              "      <td>4.0</td>\n",
              "      <td>826</td>\n",
              "      <td>9</td>\n",
              "      <td>3</td>\n",
              "      <td>1</td>\n",
              "      <td>21</td>\n",
              "      <td>1</td>\n",
              "      <td>1</td>\n",
              "      <td>0</td>\n",
              "      <td>1</td>\n",
              "      <td>1</td>\n",
              "      <td>1</td>\n",
              "      <td>12</td>\n",
              "      <td>1</td>\n",
              "    </tr>\n",
              "    <tr>\n",
              "      <th>503</th>\n",
              "      <td>503</td>\n",
              "      <td>503</td>\n",
              "      <td>20</td>\n",
              "      <td>19</td>\n",
              "      <td>112</td>\n",
              "      <td>4</td>\n",
              "      <td>4.0</td>\n",
              "      <td>826</td>\n",
              "      <td>5</td>\n",
              "      <td>3</td>\n",
              "      <td>1</td>\n",
              "      <td>21</td>\n",
              "      <td>1</td>\n",
              "      <td>1</td>\n",
              "      <td>0</td>\n",
              "      <td>1</td>\n",
              "      <td>1</td>\n",
              "      <td>1</td>\n",
              "      <td>12</td>\n",
              "      <td>1</td>\n",
              "    </tr>\n",
              "  </tbody>\n",
              "</table>\n",
              "<p>504 rows × 20 columns</p>\n",
              "</div>"
            ],
            "text/plain": [
              "     Unnamed: 0  Unnamed: 0.1  ...  Num Review month  Num User continent\n",
              "0             0             0  ...                 1                   1\n",
              "1             1             1  ...                 1                   1\n",
              "2             2             2  ...                 2                   1\n",
              "3             3             3  ...                 2                   2\n",
              "4             4             4  ...                 3                   1\n",
              "..          ...           ...  ...               ...                 ...\n",
              "499         499           499  ...                10                   2\n",
              "500         500           500  ...                11                   1\n",
              "501         501           501  ...                11                   1\n",
              "502         502           502  ...                12                   1\n",
              "503         503           503  ...                12                   1\n",
              "\n",
              "[504 rows x 20 columns]"
            ]
          },
          "metadata": {},
          "execution_count": 3
        }
      ]
    },
    {
      "cell_type": "code",
      "metadata": {
        "id": "_w4WZud1iqIl"
      },
      "source": [
        "df = df.drop(columns=['Unnamed: 0'])"
      ],
      "execution_count": 4,
      "outputs": []
    },
    {
      "cell_type": "code",
      "metadata": {
        "id": "sVnWSyRwi2sa"
      },
      "source": [
        "df = df.drop(columns=['Unnamed: 0.1'])"
      ],
      "execution_count": 5,
      "outputs": []
    },
    {
      "cell_type": "code",
      "metadata": {
        "colab": {
          "base_uri": "https://localhost:8080/",
          "height": 478
        },
        "id": "lSwEQVB6i-Zq",
        "outputId": "bbdc1112-5636-4496-dcfe-df42ee2a5bd9"
      },
      "source": [
        "df"
      ],
      "execution_count": 6,
      "outputs": [
        {
          "output_type": "execute_result",
          "data": {
            "text/html": [
              "<div>\n",
              "<style scoped>\n",
              "    .dataframe tbody tr th:only-of-type {\n",
              "        vertical-align: middle;\n",
              "    }\n",
              "\n",
              "    .dataframe tbody tr th {\n",
              "        vertical-align: top;\n",
              "    }\n",
              "\n",
              "    .dataframe thead th {\n",
              "        text-align: right;\n",
              "    }\n",
              "</style>\n",
              "<table border=\"1\" class=\"dataframe\">\n",
              "  <thead>\n",
              "    <tr style=\"text-align: right;\">\n",
              "      <th></th>\n",
              "      <th>Nr. reviews</th>\n",
              "      <th>Nr. hotel reviews</th>\n",
              "      <th>Helpful votes</th>\n",
              "      <th>Score</th>\n",
              "      <th>Hotel stars</th>\n",
              "      <th>Nr. rooms</th>\n",
              "      <th>Member years</th>\n",
              "      <th>Num Traveler type</th>\n",
              "      <th>Num User country</th>\n",
              "      <th>Num Hotel name</th>\n",
              "      <th>Dummy Pool</th>\n",
              "      <th>Dummy Gym</th>\n",
              "      <th>Dummy Tennis</th>\n",
              "      <th>Dummy Spa</th>\n",
              "      <th>Dummy Casino</th>\n",
              "      <th>Dummy Free Internet</th>\n",
              "      <th>Num Review month</th>\n",
              "      <th>Num User continent</th>\n",
              "    </tr>\n",
              "  </thead>\n",
              "  <tbody>\n",
              "    <tr>\n",
              "      <th>0</th>\n",
              "      <td>11</td>\n",
              "      <td>4</td>\n",
              "      <td>13</td>\n",
              "      <td>5</td>\n",
              "      <td>3.0</td>\n",
              "      <td>3773</td>\n",
              "      <td>9</td>\n",
              "      <td>1</td>\n",
              "      <td>1</td>\n",
              "      <td>1</td>\n",
              "      <td>0</td>\n",
              "      <td>1</td>\n",
              "      <td>0</td>\n",
              "      <td>0</td>\n",
              "      <td>1</td>\n",
              "      <td>1</td>\n",
              "      <td>1</td>\n",
              "      <td>1</td>\n",
              "    </tr>\n",
              "    <tr>\n",
              "      <th>1</th>\n",
              "      <td>119</td>\n",
              "      <td>21</td>\n",
              "      <td>75</td>\n",
              "      <td>3</td>\n",
              "      <td>3.0</td>\n",
              "      <td>3773</td>\n",
              "      <td>3</td>\n",
              "      <td>2</td>\n",
              "      <td>1</td>\n",
              "      <td>1</td>\n",
              "      <td>0</td>\n",
              "      <td>1</td>\n",
              "      <td>0</td>\n",
              "      <td>0</td>\n",
              "      <td>1</td>\n",
              "      <td>1</td>\n",
              "      <td>1</td>\n",
              "      <td>1</td>\n",
              "    </tr>\n",
              "    <tr>\n",
              "      <th>2</th>\n",
              "      <td>36</td>\n",
              "      <td>9</td>\n",
              "      <td>25</td>\n",
              "      <td>5</td>\n",
              "      <td>3.0</td>\n",
              "      <td>3773</td>\n",
              "      <td>2</td>\n",
              "      <td>3</td>\n",
              "      <td>1</td>\n",
              "      <td>1</td>\n",
              "      <td>0</td>\n",
              "      <td>1</td>\n",
              "      <td>0</td>\n",
              "      <td>0</td>\n",
              "      <td>1</td>\n",
              "      <td>1</td>\n",
              "      <td>2</td>\n",
              "      <td>1</td>\n",
              "    </tr>\n",
              "    <tr>\n",
              "      <th>3</th>\n",
              "      <td>14</td>\n",
              "      <td>7</td>\n",
              "      <td>14</td>\n",
              "      <td>4</td>\n",
              "      <td>3.0</td>\n",
              "      <td>3773</td>\n",
              "      <td>6</td>\n",
              "      <td>1</td>\n",
              "      <td>2</td>\n",
              "      <td>1</td>\n",
              "      <td>0</td>\n",
              "      <td>1</td>\n",
              "      <td>0</td>\n",
              "      <td>0</td>\n",
              "      <td>1</td>\n",
              "      <td>1</td>\n",
              "      <td>2</td>\n",
              "      <td>2</td>\n",
              "    </tr>\n",
              "    <tr>\n",
              "      <th>4</th>\n",
              "      <td>5</td>\n",
              "      <td>5</td>\n",
              "      <td>2</td>\n",
              "      <td>4</td>\n",
              "      <td>3.0</td>\n",
              "      <td>3773</td>\n",
              "      <td>7</td>\n",
              "      <td>5</td>\n",
              "      <td>3</td>\n",
              "      <td>1</td>\n",
              "      <td>0</td>\n",
              "      <td>1</td>\n",
              "      <td>0</td>\n",
              "      <td>0</td>\n",
              "      <td>1</td>\n",
              "      <td>1</td>\n",
              "      <td>3</td>\n",
              "      <td>1</td>\n",
              "    </tr>\n",
              "    <tr>\n",
              "      <th>...</th>\n",
              "      <td>...</td>\n",
              "      <td>...</td>\n",
              "      <td>...</td>\n",
              "      <td>...</td>\n",
              "      <td>...</td>\n",
              "      <td>...</td>\n",
              "      <td>...</td>\n",
              "      <td>...</td>\n",
              "      <td>...</td>\n",
              "      <td>...</td>\n",
              "      <td>...</td>\n",
              "      <td>...</td>\n",
              "      <td>...</td>\n",
              "      <td>...</td>\n",
              "      <td>...</td>\n",
              "      <td>...</td>\n",
              "      <td>...</td>\n",
              "      <td>...</td>\n",
              "    </tr>\n",
              "    <tr>\n",
              "      <th>499</th>\n",
              "      <td>15</td>\n",
              "      <td>4</td>\n",
              "      <td>8</td>\n",
              "      <td>5</td>\n",
              "      <td>4.0</td>\n",
              "      <td>826</td>\n",
              "      <td>1</td>\n",
              "      <td>4</td>\n",
              "      <td>2</td>\n",
              "      <td>21</td>\n",
              "      <td>1</td>\n",
              "      <td>1</td>\n",
              "      <td>0</td>\n",
              "      <td>1</td>\n",
              "      <td>1</td>\n",
              "      <td>1</td>\n",
              "      <td>10</td>\n",
              "      <td>2</td>\n",
              "    </tr>\n",
              "    <tr>\n",
              "      <th>500</th>\n",
              "      <td>50</td>\n",
              "      <td>13</td>\n",
              "      <td>29</td>\n",
              "      <td>4</td>\n",
              "      <td>4.0</td>\n",
              "      <td>826</td>\n",
              "      <td>8</td>\n",
              "      <td>4</td>\n",
              "      <td>3</td>\n",
              "      <td>21</td>\n",
              "      <td>1</td>\n",
              "      <td>1</td>\n",
              "      <td>0</td>\n",
              "      <td>1</td>\n",
              "      <td>1</td>\n",
              "      <td>1</td>\n",
              "      <td>11</td>\n",
              "      <td>1</td>\n",
              "    </tr>\n",
              "    <tr>\n",
              "      <th>501</th>\n",
              "      <td>154</td>\n",
              "      <td>23</td>\n",
              "      <td>31</td>\n",
              "      <td>4</td>\n",
              "      <td>4.0</td>\n",
              "      <td>826</td>\n",
              "      <td>4</td>\n",
              "      <td>1</td>\n",
              "      <td>1</td>\n",
              "      <td>21</td>\n",
              "      <td>1</td>\n",
              "      <td>1</td>\n",
              "      <td>0</td>\n",
              "      <td>1</td>\n",
              "      <td>1</td>\n",
              "      <td>1</td>\n",
              "      <td>11</td>\n",
              "      <td>1</td>\n",
              "    </tr>\n",
              "    <tr>\n",
              "      <th>502</th>\n",
              "      <td>9</td>\n",
              "      <td>6</td>\n",
              "      <td>5</td>\n",
              "      <td>2</td>\n",
              "      <td>4.0</td>\n",
              "      <td>826</td>\n",
              "      <td>9</td>\n",
              "      <td>3</td>\n",
              "      <td>1</td>\n",
              "      <td>21</td>\n",
              "      <td>1</td>\n",
              "      <td>1</td>\n",
              "      <td>0</td>\n",
              "      <td>1</td>\n",
              "      <td>1</td>\n",
              "      <td>1</td>\n",
              "      <td>12</td>\n",
              "      <td>1</td>\n",
              "    </tr>\n",
              "    <tr>\n",
              "      <th>503</th>\n",
              "      <td>20</td>\n",
              "      <td>19</td>\n",
              "      <td>112</td>\n",
              "      <td>4</td>\n",
              "      <td>4.0</td>\n",
              "      <td>826</td>\n",
              "      <td>5</td>\n",
              "      <td>3</td>\n",
              "      <td>1</td>\n",
              "      <td>21</td>\n",
              "      <td>1</td>\n",
              "      <td>1</td>\n",
              "      <td>0</td>\n",
              "      <td>1</td>\n",
              "      <td>1</td>\n",
              "      <td>1</td>\n",
              "      <td>12</td>\n",
              "      <td>1</td>\n",
              "    </tr>\n",
              "  </tbody>\n",
              "</table>\n",
              "<p>504 rows × 18 columns</p>\n",
              "</div>"
            ],
            "text/plain": [
              "     Nr. reviews  Nr. hotel reviews  ...  Num Review month  Num User continent\n",
              "0             11                  4  ...                 1                   1\n",
              "1            119                 21  ...                 1                   1\n",
              "2             36                  9  ...                 2                   1\n",
              "3             14                  7  ...                 2                   2\n",
              "4              5                  5  ...                 3                   1\n",
              "..           ...                ...  ...               ...                 ...\n",
              "499           15                  4  ...                10                   2\n",
              "500           50                 13  ...                11                   1\n",
              "501          154                 23  ...                11                   1\n",
              "502            9                  6  ...                12                   1\n",
              "503           20                 19  ...                12                   1\n",
              "\n",
              "[504 rows x 18 columns]"
            ]
          },
          "metadata": {},
          "execution_count": 6
        }
      ]
    },
    {
      "cell_type": "code",
      "metadata": {
        "id": "h0kZN5oni-vN"
      },
      "source": [
        "xtrain, xtest, ytrain, ytest = train_test_split(df[['Hotel stars', 'Dummy Pool', 'Dummy Free Internet', 'Dummy Spa', 'Dummy Gym']], df['Score'],train_size=0.8)\n",
        "\n",
        "# Initialize our decision tree object\n",
        "classification_tree = DecisionTreeClassifier()\n",
        "\n",
        "# Train our decision tree (tree induction + pruning)\n",
        "classification_tree = classification_tree.fit(xtrain, ytrain)"
      ],
      "execution_count": 25,
      "outputs": []
    },
    {
      "cell_type": "code",
      "metadata": {
        "colab": {
          "base_uri": "https://localhost:8080/",
          "height": 936
        },
        "id": "-zOFPoOIjlEa",
        "outputId": "b6ae2079-ad08-4adc-f85f-93608b5061b2"
      },
      "source": [
        "dot_data = export_graphviz(classification_tree, out_file=None,  \n",
        "                           feature_names = ['Hotel stars', 'Dummy Pool', 'Dummy Free Internet', 'Dummy Spa', 'Dummy Gym'],  \n",
        "                           class_names = ['1','2','3','4','5'], \n",
        "                           filled=True, rounded=True,  \n",
        "                           special_characters=True)  \n",
        "graph = graphviz.Source(dot_data)\n",
        "graph\n",
        "#graph.render(\"iris\", view=True) "
      ],
      "execution_count": 26,
      "outputs": [
        {
          "output_type": "execute_result",
          "data": {
            "text/plain": [
              "<graphviz.files.Source at 0x7f3056f476d0>"
            ],
            "image/svg+xml": "<?xml version=\"1.0\" encoding=\"UTF-8\" standalone=\"no\"?>\n<!DOCTYPE svg PUBLIC \"-//W3C//DTD SVG 1.1//EN\"\n \"http://www.w3.org/Graphics/SVG/1.1/DTD/svg11.dtd\">\n<!-- Generated by graphviz version 2.40.1 (20161225.0304)\n -->\n<!-- Title: Tree Pages: 1 -->\n<svg width=\"912pt\" height=\"671pt\"\n viewBox=\"0.00 0.00 911.50 671.00\" xmlns=\"http://www.w3.org/2000/svg\" xmlns:xlink=\"http://www.w3.org/1999/xlink\">\n<g id=\"graph0\" class=\"graph\" transform=\"scale(1 1) rotate(0) translate(4 667)\">\n<title>Tree</title>\n<polygon fill=\"#ffffff\" stroke=\"transparent\" points=\"-4,4 -4,-667 907.5,-667 907.5,4 -4,4\"/>\n<!-- 0 -->\n<g id=\"node1\" class=\"node\">\n<title>0</title>\n<path fill=\"#fce8f8\" stroke=\"#000000\" d=\"M626,-663C626,-663 454,-663 454,-663 448,-663 442,-657 442,-651 442,-651 442,-592 442,-592 442,-586 448,-580 454,-580 454,-580 626,-580 626,-580 632,-580 638,-586 638,-592 638,-592 638,-651 638,-651 638,-657 632,-663 626,-663\"/>\n<text text-anchor=\"start\" x=\"483.5\" y=\"-647.8\" font-family=\"Helvetica,sans-Serif\" font-size=\"14.00\" fill=\"#000000\">Hotel stars ≤ 4.25</text>\n<text text-anchor=\"start\" x=\"502\" y=\"-632.8\" font-family=\"Helvetica,sans-Serif\" font-size=\"14.00\" fill=\"#000000\">gini = 0.668</text>\n<text text-anchor=\"start\" x=\"492\" y=\"-617.8\" font-family=\"Helvetica,sans-Serif\" font-size=\"14.00\" fill=\"#000000\">samples = 403</text>\n<text text-anchor=\"start\" x=\"450\" y=\"-602.8\" font-family=\"Helvetica,sans-Serif\" font-size=\"14.00\" fill=\"#000000\">value = [9, 24, 54, 143, 173]</text>\n<text text-anchor=\"start\" x=\"511\" y=\"-587.8\" font-family=\"Helvetica,sans-Serif\" font-size=\"14.00\" fill=\"#000000\">class = 5</text>\n</g>\n<!-- 1 -->\n<g id=\"node2\" class=\"node\">\n<title>1</title>\n<path fill=\"#e7e6fc\" stroke=\"#000000\" d=\"M519.5,-544C519.5,-544 364.5,-544 364.5,-544 358.5,-544 352.5,-538 352.5,-532 352.5,-532 352.5,-473 352.5,-473 352.5,-467 358.5,-461 364.5,-461 364.5,-461 519.5,-461 519.5,-461 525.5,-461 531.5,-467 531.5,-473 531.5,-473 531.5,-532 531.5,-532 531.5,-538 525.5,-544 519.5,-544\"/>\n<text text-anchor=\"start\" x=\"385.5\" y=\"-528.8\" font-family=\"Helvetica,sans-Serif\" font-size=\"14.00\" fill=\"#000000\">Hotel stars ≤ 3.25</text>\n<text text-anchor=\"start\" x=\"404\" y=\"-513.8\" font-family=\"Helvetica,sans-Serif\" font-size=\"14.00\" fill=\"#000000\">gini = 0.697</text>\n<text text-anchor=\"start\" x=\"394\" y=\"-498.8\" font-family=\"Helvetica,sans-Serif\" font-size=\"14.00\" fill=\"#000000\">samples = 223</text>\n<text text-anchor=\"start\" x=\"360.5\" y=\"-483.8\" font-family=\"Helvetica,sans-Serif\" font-size=\"14.00\" fill=\"#000000\">value = [5, 17, 40, 90, 71]</text>\n<text text-anchor=\"start\" x=\"413\" y=\"-468.8\" font-family=\"Helvetica,sans-Serif\" font-size=\"14.00\" fill=\"#000000\">class = 4</text>\n</g>\n<!-- 0&#45;&gt;1 -->\n<g id=\"edge1\" class=\"edge\">\n<title>0&#45;&gt;1</title>\n<path fill=\"none\" stroke=\"#000000\" d=\"M505.7244,-579.8796C498.3816,-570.9633 490.5524,-561.4565 482.9854,-552.268\"/>\n<polygon fill=\"#000000\" stroke=\"#000000\" points=\"485.4808,-549.7924 476.4219,-544.2981 480.0773,-554.2424 485.4808,-549.7924\"/>\n<text text-anchor=\"middle\" x=\"474.0138\" y=\"-565.4818\" font-family=\"Helvetica,sans-Serif\" font-size=\"14.00\" fill=\"#000000\">True</text>\n</g>\n<!-- 14 -->\n<g id=\"node15\" class=\"node\">\n<title>14</title>\n<path fill=\"#f5b3e7\" stroke=\"#000000\" d=\"M716.5,-544C716.5,-544 561.5,-544 561.5,-544 555.5,-544 549.5,-538 549.5,-532 549.5,-532 549.5,-473 549.5,-473 549.5,-467 555.5,-461 561.5,-461 561.5,-461 716.5,-461 716.5,-461 722.5,-461 728.5,-467 728.5,-473 728.5,-473 728.5,-532 728.5,-532 728.5,-538 722.5,-544 716.5,-544\"/>\n<text text-anchor=\"start\" x=\"582.5\" y=\"-528.8\" font-family=\"Helvetica,sans-Serif\" font-size=\"14.00\" fill=\"#000000\">Hotel stars ≤ 4.75</text>\n<text text-anchor=\"start\" x=\"601\" y=\"-513.8\" font-family=\"Helvetica,sans-Serif\" font-size=\"14.00\" fill=\"#000000\">gini = 0.584</text>\n<text text-anchor=\"start\" x=\"591\" y=\"-498.8\" font-family=\"Helvetica,sans-Serif\" font-size=\"14.00\" fill=\"#000000\">samples = 180</text>\n<text text-anchor=\"start\" x=\"557.5\" y=\"-483.8\" font-family=\"Helvetica,sans-Serif\" font-size=\"14.00\" fill=\"#000000\">value = [4, 7, 14, 53, 102]</text>\n<text text-anchor=\"start\" x=\"610\" y=\"-468.8\" font-family=\"Helvetica,sans-Serif\" font-size=\"14.00\" fill=\"#000000\">class = 5</text>\n</g>\n<!-- 0&#45;&gt;14 -->\n<g id=\"edge14\" class=\"edge\">\n<title>0&#45;&gt;14</title>\n<path fill=\"none\" stroke=\"#000000\" d=\"M574.6254,-579.8796C582.118,-570.8733 590.1119,-561.2644 597.8279,-551.9897\"/>\n<polygon fill=\"#000000\" stroke=\"#000000\" points=\"600.5219,-554.224 604.2268,-544.2981 595.1407,-549.7472 600.5219,-554.224\"/>\n<text text-anchor=\"middle\" x=\"606.5108\" y=\"-565.4935\" font-family=\"Helvetica,sans-Serif\" font-size=\"14.00\" fill=\"#000000\">False</text>\n</g>\n<!-- 2 -->\n<g id=\"node3\" class=\"node\">\n<title>2</title>\n<path fill=\"#f7f7fe\" stroke=\"#000000\" d=\"M319.5,-425C319.5,-425 172.5,-425 172.5,-425 166.5,-425 160.5,-419 160.5,-413 160.5,-413 160.5,-354 160.5,-354 160.5,-348 166.5,-342 172.5,-342 172.5,-342 319.5,-342 319.5,-342 325.5,-342 331.5,-348 331.5,-354 331.5,-354 331.5,-413 331.5,-413 331.5,-419 325.5,-425 319.5,-425\"/>\n<text text-anchor=\"start\" x=\"186.5\" y=\"-409.8\" font-family=\"Helvetica,sans-Serif\" font-size=\"14.00\" fill=\"#000000\">Dummy Pool ≤ 0.5</text>\n<text text-anchor=\"start\" x=\"212.5\" y=\"-394.8\" font-family=\"Helvetica,sans-Serif\" font-size=\"14.00\" fill=\"#000000\">gini = 0.73</text>\n<text text-anchor=\"start\" x=\"202\" y=\"-379.8\" font-family=\"Helvetica,sans-Serif\" font-size=\"14.00\" fill=\"#000000\">samples = 73</text>\n<text text-anchor=\"start\" x=\"168.5\" y=\"-364.8\" font-family=\"Helvetica,sans-Serif\" font-size=\"14.00\" fill=\"#000000\">value = [2, 7, 22, 24, 18]</text>\n<text text-anchor=\"start\" x=\"217\" y=\"-349.8\" font-family=\"Helvetica,sans-Serif\" font-size=\"14.00\" fill=\"#000000\">class = 4</text>\n</g>\n<!-- 1&#45;&gt;2 -->\n<g id=\"edge2\" class=\"edge\">\n<title>1&#45;&gt;2</title>\n<path fill=\"none\" stroke=\"#000000\" d=\"M373.4487,-460.8796C357.1857,-451.0056 339.7299,-440.4075 323.1142,-430.3193\"/>\n<polygon fill=\"#000000\" stroke=\"#000000\" points=\"324.8769,-427.295 314.5126,-425.0969 321.244,-433.2785 324.8769,-427.295\"/>\n</g>\n<!-- 7 -->\n<g id=\"node8\" class=\"node\">\n<title>7</title>\n<path fill=\"#e5e4fc\" stroke=\"#000000\" d=\"M526,-425C526,-425 362,-425 362,-425 356,-425 350,-419 350,-413 350,-413 350,-354 350,-354 350,-348 356,-342 362,-342 362,-342 526,-342 526,-342 532,-342 538,-348 538,-354 538,-354 538,-413 538,-413 538,-419 532,-425 526,-425\"/>\n<text text-anchor=\"start\" x=\"358\" y=\"-409.8\" font-family=\"Helvetica,sans-Serif\" font-size=\"14.00\" fill=\"#000000\">Dummy Free Internet ≤ 0.5</text>\n<text text-anchor=\"start\" x=\"406\" y=\"-394.8\" font-family=\"Helvetica,sans-Serif\" font-size=\"14.00\" fill=\"#000000\">gini = 0.662</text>\n<text text-anchor=\"start\" x=\"396\" y=\"-379.8\" font-family=\"Helvetica,sans-Serif\" font-size=\"14.00\" fill=\"#000000\">samples = 150</text>\n<text text-anchor=\"start\" x=\"362.5\" y=\"-364.8\" font-family=\"Helvetica,sans-Serif\" font-size=\"14.00\" fill=\"#000000\">value = [3, 10, 18, 66, 53]</text>\n<text text-anchor=\"start\" x=\"415\" y=\"-349.8\" font-family=\"Helvetica,sans-Serif\" font-size=\"14.00\" fill=\"#000000\">class = 4</text>\n</g>\n<!-- 1&#45;&gt;7 -->\n<g id=\"edge7\" class=\"edge\">\n<title>1&#45;&gt;7</title>\n<path fill=\"none\" stroke=\"#000000\" d=\"M442.6995,-460.8796C442.8372,-452.6838 442.9834,-443.9891 443.126,-435.5013\"/>\n<polygon fill=\"#000000\" stroke=\"#000000\" points=\"446.6289,-435.3555 443.2975,-425.2981 439.6299,-435.2378 446.6289,-435.3555\"/>\n</g>\n<!-- 3 -->\n<g id=\"node4\" class=\"node\">\n<title>3</title>\n<path fill=\"#f2f2fd\" stroke=\"#000000\" d=\"M134,-298.5C134,-298.5 12,-298.5 12,-298.5 6,-298.5 0,-292.5 0,-286.5 0,-286.5 0,-242.5 0,-242.5 0,-236.5 6,-230.5 12,-230.5 12,-230.5 134,-230.5 134,-230.5 140,-230.5 146,-236.5 146,-242.5 146,-242.5 146,-286.5 146,-286.5 146,-292.5 140,-298.5 134,-298.5\"/>\n<text text-anchor=\"start\" x=\"35\" y=\"-283.3\" font-family=\"Helvetica,sans-Serif\" font-size=\"14.00\" fill=\"#000000\">gini = 0.753</text>\n<text text-anchor=\"start\" x=\"29\" y=\"-268.3\" font-family=\"Helvetica,sans-Serif\" font-size=\"14.00\" fill=\"#000000\">samples = 21</text>\n<text text-anchor=\"start\" x=\"8\" y=\"-253.3\" font-family=\"Helvetica,sans-Serif\" font-size=\"14.00\" fill=\"#000000\">value = [2, 4, 6, 7, 2]</text>\n<text text-anchor=\"start\" x=\"44\" y=\"-238.3\" font-family=\"Helvetica,sans-Serif\" font-size=\"14.00\" fill=\"#000000\">class = 4</text>\n</g>\n<!-- 2&#45;&gt;3 -->\n<g id=\"edge3\" class=\"edge\">\n<title>2&#45;&gt;3</title>\n<path fill=\"none\" stroke=\"#000000\" d=\"M185.493,-341.8796C167.8248,-329.7263 148.5615,-316.4759 131.0491,-304.4297\"/>\n<polygon fill=\"#000000\" stroke=\"#000000\" points=\"132.8301,-301.4067 122.6074,-298.623 128.8629,-307.1741 132.8301,-301.4067\"/>\n</g>\n<!-- 4 -->\n<g id=\"node5\" class=\"node\">\n<title>4</title>\n<path fill=\"#fafafe\" stroke=\"#000000\" d=\"M323.5,-306C323.5,-306 176.5,-306 176.5,-306 170.5,-306 164.5,-300 164.5,-294 164.5,-294 164.5,-235 164.5,-235 164.5,-229 170.5,-223 176.5,-223 176.5,-223 323.5,-223 323.5,-223 329.5,-223 335.5,-229 335.5,-235 335.5,-235 335.5,-294 335.5,-294 335.5,-300 329.5,-306 323.5,-306\"/>\n<text text-anchor=\"start\" x=\"192\" y=\"-290.8\" font-family=\"Helvetica,sans-Serif\" font-size=\"14.00\" fill=\"#000000\">Dummy Spa ≤ 0.5</text>\n<text text-anchor=\"start\" x=\"220.5\" y=\"-275.8\" font-family=\"Helvetica,sans-Serif\" font-size=\"14.00\" fill=\"#000000\">gini = 0.7</text>\n<text text-anchor=\"start\" x=\"206\" y=\"-260.8\" font-family=\"Helvetica,sans-Serif\" font-size=\"14.00\" fill=\"#000000\">samples = 52</text>\n<text text-anchor=\"start\" x=\"172.5\" y=\"-245.8\" font-family=\"Helvetica,sans-Serif\" font-size=\"14.00\" fill=\"#000000\">value = [0, 3, 16, 17, 16]</text>\n<text text-anchor=\"start\" x=\"221\" y=\"-230.8\" font-family=\"Helvetica,sans-Serif\" font-size=\"14.00\" fill=\"#000000\">class = 4</text>\n</g>\n<!-- 2&#45;&gt;4 -->\n<g id=\"edge4\" class=\"edge\">\n<title>2&#45;&gt;4</title>\n<path fill=\"none\" stroke=\"#000000\" d=\"M247.399,-341.8796C247.6745,-333.6838 247.9668,-324.9891 248.2521,-316.5013\"/>\n<polygon fill=\"#000000\" stroke=\"#000000\" points=\"251.757,-316.41 248.595,-306.2981 244.761,-316.1748 251.757,-316.41\"/>\n</g>\n<!-- 5 -->\n<g id=\"node6\" class=\"node\">\n<title>5</title>\n<path fill=\"#f0f0fd\" stroke=\"#000000\" d=\"M304,-179.5C304,-179.5 182,-179.5 182,-179.5 176,-179.5 170,-173.5 170,-167.5 170,-167.5 170,-123.5 170,-123.5 170,-117.5 176,-111.5 182,-111.5 182,-111.5 304,-111.5 304,-111.5 310,-111.5 316,-117.5 316,-123.5 316,-123.5 316,-167.5 316,-167.5 316,-173.5 310,-179.5 304,-179.5\"/>\n<text text-anchor=\"start\" x=\"205\" y=\"-164.3\" font-family=\"Helvetica,sans-Serif\" font-size=\"14.00\" fill=\"#000000\">gini = 0.709</text>\n<text text-anchor=\"start\" x=\"199\" y=\"-149.3\" font-family=\"Helvetica,sans-Serif\" font-size=\"14.00\" fill=\"#000000\">samples = 19</text>\n<text text-anchor=\"start\" x=\"178\" y=\"-134.3\" font-family=\"Helvetica,sans-Serif\" font-size=\"14.00\" fill=\"#000000\">value = [0, 2, 4, 7, 6]</text>\n<text text-anchor=\"start\" x=\"214\" y=\"-119.3\" font-family=\"Helvetica,sans-Serif\" font-size=\"14.00\" fill=\"#000000\">class = 4</text>\n</g>\n<!-- 4&#45;&gt;5 -->\n<g id=\"edge5\" class=\"edge\">\n<title>4&#45;&gt;5</title>\n<path fill=\"none\" stroke=\"#000000\" d=\"M247.5517,-222.8796C246.9243,-212.2134 246.2472,-200.7021 245.6119,-189.9015\"/>\n<polygon fill=\"#000000\" stroke=\"#000000\" points=\"249.0998,-189.5921 245.0185,-179.8149 242.1119,-190.0032 249.0998,-189.5921\"/>\n</g>\n<!-- 6 -->\n<g id=\"node7\" class=\"node\">\n<title>6</title>\n<path fill=\"#eefdfa\" stroke=\"#000000\" d=\"M493.5,-179.5C493.5,-179.5 346.5,-179.5 346.5,-179.5 340.5,-179.5 334.5,-173.5 334.5,-167.5 334.5,-167.5 334.5,-123.5 334.5,-123.5 334.5,-117.5 340.5,-111.5 346.5,-111.5 346.5,-111.5 493.5,-111.5 493.5,-111.5 499.5,-111.5 505.5,-117.5 505.5,-123.5 505.5,-123.5 505.5,-167.5 505.5,-167.5 505.5,-173.5 499.5,-179.5 493.5,-179.5\"/>\n<text text-anchor=\"start\" x=\"382\" y=\"-164.3\" font-family=\"Helvetica,sans-Serif\" font-size=\"14.00\" fill=\"#000000\">gini = 0.683</text>\n<text text-anchor=\"start\" x=\"376\" y=\"-149.3\" font-family=\"Helvetica,sans-Serif\" font-size=\"14.00\" fill=\"#000000\">samples = 33</text>\n<text text-anchor=\"start\" x=\"342.5\" y=\"-134.3\" font-family=\"Helvetica,sans-Serif\" font-size=\"14.00\" fill=\"#000000\">value = [0, 1, 12, 10, 10]</text>\n<text text-anchor=\"start\" x=\"391\" y=\"-119.3\" font-family=\"Helvetica,sans-Serif\" font-size=\"14.00\" fill=\"#000000\">class = 3</text>\n</g>\n<!-- 4&#45;&gt;6 -->\n<g id=\"edge6\" class=\"edge\">\n<title>4&#45;&gt;6</title>\n<path fill=\"none\" stroke=\"#000000\" d=\"M309.4578,-222.8796C326.8196,-210.7263 345.7488,-197.4759 362.9575,-185.4297\"/>\n<polygon fill=\"#000000\" stroke=\"#000000\" points=\"365.0676,-188.225 371.2528,-179.623 361.0533,-182.4904 365.0676,-188.225\"/>\n</g>\n<!-- 8 -->\n<g id=\"node9\" class=\"node\">\n<title>8</title>\n<path fill=\"#d1d0f9\" stroke=\"#000000\" d=\"M498,-298.5C498,-298.5 376,-298.5 376,-298.5 370,-298.5 364,-292.5 364,-286.5 364,-286.5 364,-242.5 364,-242.5 364,-236.5 370,-230.5 376,-230.5 376,-230.5 498,-230.5 498,-230.5 504,-230.5 510,-236.5 510,-242.5 510,-242.5 510,-286.5 510,-286.5 510,-292.5 504,-298.5 498,-298.5\"/>\n<text text-anchor=\"start\" x=\"399\" y=\"-283.3\" font-family=\"Helvetica,sans-Serif\" font-size=\"14.00\" fill=\"#000000\">gini = 0.719</text>\n<text text-anchor=\"start\" x=\"393\" y=\"-268.3\" font-family=\"Helvetica,sans-Serif\" font-size=\"14.00\" fill=\"#000000\">samples = 22</text>\n<text text-anchor=\"start\" x=\"372\" y=\"-253.3\" font-family=\"Helvetica,sans-Serif\" font-size=\"14.00\" fill=\"#000000\">value = [1, 5, 5, 9, 2]</text>\n<text text-anchor=\"start\" x=\"408\" y=\"-238.3\" font-family=\"Helvetica,sans-Serif\" font-size=\"14.00\" fill=\"#000000\">class = 4</text>\n</g>\n<!-- 7&#45;&gt;8 -->\n<g id=\"edge8\" class=\"edge\">\n<title>7&#45;&gt;8</title>\n<path fill=\"none\" stroke=\"#000000\" d=\"M441.5517,-341.8796C440.9243,-331.2134 440.2472,-319.7021 439.6119,-308.9015\"/>\n<polygon fill=\"#000000\" stroke=\"#000000\" points=\"443.0998,-308.5921 439.0185,-298.8149 436.1119,-309.0032 443.0998,-308.5921\"/>\n</g>\n<!-- 9 -->\n<g id=\"node10\" class=\"node\">\n<title>9</title>\n<path fill=\"#f0f0fd\" stroke=\"#000000\" d=\"M687.5,-306C687.5,-306 540.5,-306 540.5,-306 534.5,-306 528.5,-300 528.5,-294 528.5,-294 528.5,-235 528.5,-235 528.5,-229 534.5,-223 540.5,-223 540.5,-223 687.5,-223 687.5,-223 693.5,-223 699.5,-229 699.5,-235 699.5,-235 699.5,-294 699.5,-294 699.5,-300 693.5,-306 687.5,-306\"/>\n<text text-anchor=\"start\" x=\"557.5\" y=\"-290.8\" font-family=\"Helvetica,sans-Serif\" font-size=\"14.00\" fill=\"#000000\">Hotel stars ≤ 3.75</text>\n<text text-anchor=\"start\" x=\"576\" y=\"-275.8\" font-family=\"Helvetica,sans-Serif\" font-size=\"14.00\" fill=\"#000000\">gini = 0.631</text>\n<text text-anchor=\"start\" x=\"566\" y=\"-260.8\" font-family=\"Helvetica,sans-Serif\" font-size=\"14.00\" fill=\"#000000\">samples = 128</text>\n<text text-anchor=\"start\" x=\"536.5\" y=\"-245.8\" font-family=\"Helvetica,sans-Serif\" font-size=\"14.00\" fill=\"#000000\">value = [2, 5, 13, 57, 51]</text>\n<text text-anchor=\"start\" x=\"585\" y=\"-230.8\" font-family=\"Helvetica,sans-Serif\" font-size=\"14.00\" fill=\"#000000\">class = 4</text>\n</g>\n<!-- 7&#45;&gt;9 -->\n<g id=\"edge9\" class=\"edge\">\n<title>7&#45;&gt;9</title>\n<path fill=\"none\" stroke=\"#000000\" d=\"M503.4578,-341.8796C517.3046,-332.1868 532.1484,-321.7961 546.3212,-311.8752\"/>\n<polygon fill=\"#000000\" stroke=\"#000000\" points=\"548.3906,-314.6989 554.5758,-306.0969 544.3764,-308.9643 548.3906,-314.6989\"/>\n</g>\n<!-- 10 -->\n<g id=\"node11\" class=\"node\">\n<title>10</title>\n<path fill=\"#fbe0f5\" stroke=\"#000000\" d=\"M680.5,-187C680.5,-187 541.5,-187 541.5,-187 535.5,-187 529.5,-181 529.5,-175 529.5,-175 529.5,-116 529.5,-116 529.5,-110 535.5,-104 541.5,-104 541.5,-104 680.5,-104 680.5,-104 686.5,-104 692.5,-110 692.5,-116 692.5,-116 692.5,-175 692.5,-175 692.5,-181 686.5,-187 680.5,-187\"/>\n<text text-anchor=\"start\" x=\"553\" y=\"-171.8\" font-family=\"Helvetica,sans-Serif\" font-size=\"14.00\" fill=\"#000000\">Dummy Spa ≤ 0.5</text>\n<text text-anchor=\"start\" x=\"573\" y=\"-156.8\" font-family=\"Helvetica,sans-Serif\" font-size=\"14.00\" fill=\"#000000\">gini = 0.581</text>\n<text text-anchor=\"start\" x=\"567\" y=\"-141.8\" font-family=\"Helvetica,sans-Serif\" font-size=\"14.00\" fill=\"#000000\">samples = 54</text>\n<text text-anchor=\"start\" x=\"537.5\" y=\"-126.8\" font-family=\"Helvetica,sans-Serif\" font-size=\"14.00\" fill=\"#000000\">value = [1, 2, 2, 22, 27]</text>\n<text text-anchor=\"start\" x=\"582\" y=\"-111.8\" font-family=\"Helvetica,sans-Serif\" font-size=\"14.00\" fill=\"#000000\">class = 5</text>\n</g>\n<!-- 9&#45;&gt;10 -->\n<g id=\"edge10\" class=\"edge\">\n<title>9&#45;&gt;10</title>\n<path fill=\"none\" stroke=\"#000000\" d=\"M612.9507,-222.8796C612.7441,-214.6838 612.5249,-205.9891 612.311,-197.5013\"/>\n<polygon fill=\"#000000\" stroke=\"#000000\" points=\"615.8047,-197.2067 612.0537,-187.2981 608.807,-197.3831 615.8047,-197.2067\"/>\n</g>\n<!-- 13 -->\n<g id=\"node14\" class=\"node\">\n<title>13</title>\n<path fill=\"#d4d3f9\" stroke=\"#000000\" d=\"M869.5,-179.5C869.5,-179.5 722.5,-179.5 722.5,-179.5 716.5,-179.5 710.5,-173.5 710.5,-167.5 710.5,-167.5 710.5,-123.5 710.5,-123.5 710.5,-117.5 716.5,-111.5 722.5,-111.5 722.5,-111.5 869.5,-111.5 869.5,-111.5 875.5,-111.5 881.5,-117.5 881.5,-123.5 881.5,-123.5 881.5,-167.5 881.5,-167.5 881.5,-173.5 875.5,-179.5 869.5,-179.5\"/>\n<text text-anchor=\"start\" x=\"758\" y=\"-164.3\" font-family=\"Helvetica,sans-Serif\" font-size=\"14.00\" fill=\"#000000\">gini = 0.647</text>\n<text text-anchor=\"start\" x=\"752\" y=\"-149.3\" font-family=\"Helvetica,sans-Serif\" font-size=\"14.00\" fill=\"#000000\">samples = 74</text>\n<text text-anchor=\"start\" x=\"718.5\" y=\"-134.3\" font-family=\"Helvetica,sans-Serif\" font-size=\"14.00\" fill=\"#000000\">value = [1, 3, 11, 35, 24]</text>\n<text text-anchor=\"start\" x=\"767\" y=\"-119.3\" font-family=\"Helvetica,sans-Serif\" font-size=\"14.00\" fill=\"#000000\">class = 4</text>\n</g>\n<!-- 9&#45;&gt;13 -->\n<g id=\"edge13\" class=\"edge\">\n<title>9&#45;&gt;13</title>\n<path fill=\"none\" stroke=\"#000000\" d=\"M677.6548,-222.8796C696.4111,-210.6158 716.8761,-197.2348 735.433,-185.1015\"/>\n<polygon fill=\"#000000\" stroke=\"#000000\" points=\"737.3575,-188.025 743.8118,-179.623 733.5267,-182.1662 737.3575,-188.025\"/>\n</g>\n<!-- 11 -->\n<g id=\"node12\" class=\"node\">\n<title>11</title>\n<path fill=\"#ffffff\" stroke=\"#000000\" d=\"M592.5,-68C592.5,-68 453.5,-68 453.5,-68 447.5,-68 441.5,-62 441.5,-56 441.5,-56 441.5,-12 441.5,-12 441.5,-6 447.5,0 453.5,0 453.5,0 592.5,0 592.5,0 598.5,0 604.5,-6 604.5,-12 604.5,-12 604.5,-56 604.5,-56 604.5,-62 598.5,-68 592.5,-68\"/>\n<text text-anchor=\"start\" x=\"485\" y=\"-52.8\" font-family=\"Helvetica,sans-Serif\" font-size=\"14.00\" fill=\"#000000\">gini = 0.554</text>\n<text text-anchor=\"start\" x=\"479\" y=\"-37.8\" font-family=\"Helvetica,sans-Serif\" font-size=\"14.00\" fill=\"#000000\">samples = 34</text>\n<text text-anchor=\"start\" x=\"449.5\" y=\"-22.8\" font-family=\"Helvetica,sans-Serif\" font-size=\"14.00\" fill=\"#000000\">value = [0, 0, 2, 16, 16]</text>\n<text text-anchor=\"start\" x=\"494\" y=\"-7.8\" font-family=\"Helvetica,sans-Serif\" font-size=\"14.00\" fill=\"#000000\">class = 4</text>\n</g>\n<!-- 10&#45;&gt;11 -->\n<g id=\"edge11\" class=\"edge\">\n<title>10&#45;&gt;11</title>\n<path fill=\"none\" stroke=\"#000000\" d=\"M578.232,-103.9815C571.051,-94.8828 563.4421,-85.242 556.2426,-76.1199\"/>\n<polygon fill=\"#000000\" stroke=\"#000000\" points=\"558.9849,-73.9451 550.0422,-68.2637 553.4901,-78.2818 558.9849,-73.9451\"/>\n</g>\n<!-- 12 -->\n<g id=\"node13\" class=\"node\">\n<title>12</title>\n<path fill=\"#f6b8e8\" stroke=\"#000000\" d=\"M765.5,-68C765.5,-68 634.5,-68 634.5,-68 628.5,-68 622.5,-62 622.5,-56 622.5,-56 622.5,-12 622.5,-12 622.5,-6 628.5,0 634.5,0 634.5,0 765.5,0 765.5,0 771.5,0 777.5,-6 777.5,-12 777.5,-12 777.5,-56 777.5,-56 777.5,-62 771.5,-68 765.5,-68\"/>\n<text text-anchor=\"start\" x=\"662\" y=\"-52.8\" font-family=\"Helvetica,sans-Serif\" font-size=\"14.00\" fill=\"#000000\">gini = 0.595</text>\n<text text-anchor=\"start\" x=\"656\" y=\"-37.8\" font-family=\"Helvetica,sans-Serif\" font-size=\"14.00\" fill=\"#000000\">samples = 20</text>\n<text text-anchor=\"start\" x=\"630.5\" y=\"-22.8\" font-family=\"Helvetica,sans-Serif\" font-size=\"14.00\" fill=\"#000000\">value = [1, 2, 0, 6, 11]</text>\n<text text-anchor=\"start\" x=\"671\" y=\"-7.8\" font-family=\"Helvetica,sans-Serif\" font-size=\"14.00\" fill=\"#000000\">class = 5</text>\n</g>\n<!-- 10&#45;&gt;12 -->\n<g id=\"edge12\" class=\"edge\">\n<title>10&#45;&gt;12</title>\n<path fill=\"none\" stroke=\"#000000\" d=\"M644.1403,-103.9815C651.403,-94.8828 659.0983,-85.242 666.3796,-76.1199\"/>\n<polygon fill=\"#000000\" stroke=\"#000000\" points=\"669.1475,-78.2627 672.6505,-68.2637 663.6766,-73.8958 669.1475,-78.2627\"/>\n</g>\n<!-- 15 -->\n<g id=\"node16\" class=\"node\">\n<title>15</title>\n<path fill=\"#f6bdea\" stroke=\"#000000\" d=\"M702.5,-417.5C702.5,-417.5 571.5,-417.5 571.5,-417.5 565.5,-417.5 559.5,-411.5 559.5,-405.5 559.5,-405.5 559.5,-361.5 559.5,-361.5 559.5,-355.5 565.5,-349.5 571.5,-349.5 571.5,-349.5 702.5,-349.5 702.5,-349.5 708.5,-349.5 714.5,-355.5 714.5,-361.5 714.5,-361.5 714.5,-405.5 714.5,-405.5 714.5,-411.5 708.5,-417.5 702.5,-417.5\"/>\n<text text-anchor=\"start\" x=\"603.5\" y=\"-402.3\" font-family=\"Helvetica,sans-Serif\" font-size=\"14.00\" fill=\"#000000\">gini = 0.66</text>\n<text text-anchor=\"start\" x=\"593\" y=\"-387.3\" font-family=\"Helvetica,sans-Serif\" font-size=\"14.00\" fill=\"#000000\">samples = 20</text>\n<text text-anchor=\"start\" x=\"567.5\" y=\"-372.3\" font-family=\"Helvetica,sans-Serif\" font-size=\"14.00\" fill=\"#000000\">value = [1, 1, 3, 5, 10]</text>\n<text text-anchor=\"start\" x=\"608\" y=\"-357.3\" font-family=\"Helvetica,sans-Serif\" font-size=\"14.00\" fill=\"#000000\">class = 5</text>\n</g>\n<!-- 14&#45;&gt;15 -->\n<g id=\"edge15\" class=\"edge\">\n<title>14&#45;&gt;15</title>\n<path fill=\"none\" stroke=\"#000000\" d=\"M638.3005,-460.8796C638.1212,-450.2134 637.9278,-438.7021 637.7462,-427.9015\"/>\n<polygon fill=\"#000000\" stroke=\"#000000\" points=\"641.2444,-427.7547 637.5767,-417.8149 634.2454,-427.8724 641.2444,-427.7547\"/>\n</g>\n<!-- 16 -->\n<g id=\"node17\" class=\"node\">\n<title>16</title>\n<path fill=\"#f5b1e6\" stroke=\"#000000\" d=\"M891.5,-417.5C891.5,-417.5 744.5,-417.5 744.5,-417.5 738.5,-417.5 732.5,-411.5 732.5,-405.5 732.5,-405.5 732.5,-361.5 732.5,-361.5 732.5,-355.5 738.5,-349.5 744.5,-349.5 744.5,-349.5 891.5,-349.5 891.5,-349.5 897.5,-349.5 903.5,-355.5 903.5,-361.5 903.5,-361.5 903.5,-405.5 903.5,-405.5 903.5,-411.5 897.5,-417.5 891.5,-417.5\"/>\n<text text-anchor=\"start\" x=\"780\" y=\"-402.3\" font-family=\"Helvetica,sans-Serif\" font-size=\"14.00\" fill=\"#000000\">gini = 0.573</text>\n<text text-anchor=\"start\" x=\"770\" y=\"-387.3\" font-family=\"Helvetica,sans-Serif\" font-size=\"14.00\" fill=\"#000000\">samples = 160</text>\n<text text-anchor=\"start\" x=\"740.5\" y=\"-372.3\" font-family=\"Helvetica,sans-Serif\" font-size=\"14.00\" fill=\"#000000\">value = [3, 6, 11, 48, 92]</text>\n<text text-anchor=\"start\" x=\"789\" y=\"-357.3\" font-family=\"Helvetica,sans-Serif\" font-size=\"14.00\" fill=\"#000000\">class = 5</text>\n</g>\n<!-- 14&#45;&gt;16 -->\n<g id=\"edge16\" class=\"edge\">\n<title>14&#45;&gt;16</title>\n<path fill=\"none\" stroke=\"#000000\" d=\"M701.6055,-460.8796C719.8865,-448.7263 739.8178,-435.4759 757.9376,-423.4297\"/>\n<polygon fill=\"#000000\" stroke=\"#000000\" points=\"760.2821,-426.074 766.6721,-417.623 756.4067,-420.2447 760.2821,-426.074\"/>\n</g>\n</g>\n</svg>\n"
          },
          "metadata": {},
          "execution_count": 26
        }
      ]
    },
    {
      "cell_type": "code",
      "metadata": {
        "colab": {
          "base_uri": "https://localhost:8080/"
        },
        "id": "xiIoeegzkBJw",
        "outputId": "38c128ec-7c0b-4a76-ac71-515e6ca88cf9"
      },
      "source": [
        "model = DecisionTreeClassifier()\n",
        "\n",
        "model.fit(xtrain, ytrain)\n",
        "\n",
        "y_pred = model.predict(xtest)\n",
        "\n",
        "print(f'Accuracy Score: {metrics.accuracy_score(ytest, y_pred)}')\n",
        "print(f'Precision Score: {metrics.precision_score(ytest, y_pred, average=\"macro\")}')\n",
        "print(f'Recall Score: {metrics.recall_score(ytest, y_pred, average=\"macro\")}')\n",
        "print(f'F1 Score: {metrics.f1_score(ytest, y_pred, average=\"macro\")}')"
      ],
      "execution_count": 27,
      "outputs": [
        {
          "output_type": "stream",
          "name": "stdout",
          "text": [
            "Accuracy Score: 0.42574257425742573\n",
            "Precision Score: 0.23217391304347826\n",
            "Recall Score: 0.2513227513227513\n",
            "F1 Score: 0.22715436357862523\n"
          ]
        },
        {
          "output_type": "stream",
          "name": "stderr",
          "text": [
            "/usr/local/lib/python3.7/dist-packages/sklearn/metrics/_classification.py:1308: UndefinedMetricWarning: Precision is ill-defined and being set to 0.0 in labels with no predicted samples. Use `zero_division` parameter to control this behavior.\n",
            "  _warn_prf(average, modifier, msg_start, len(result))\n"
          ]
        }
      ]
    },
    {
      "cell_type": "code",
      "metadata": {
        "colab": {
          "base_uri": "https://localhost:8080/",
          "height": 409
        },
        "id": "fh77Jc7rlcqJ",
        "outputId": "8507f7b0-9c64-4fa9-96c4-fe6b36fce8bc"
      },
      "source": [
        "# Run this cell if working in Google CoLab\n",
        "!pip uninstall scikit-learn -y\n",
        "!pip uninstall imbalanced-learn -y\n",
        "\n",
        "!pip install -U scikit-learn imbalanced-learn"
      ],
      "execution_count": null,
      "outputs": [
        {
          "output_type": "stream",
          "name": "stdout",
          "text": [
            "Found existing installation: scikit-learn 1.0.1\n",
            "Uninstalling scikit-learn-1.0.1:\n",
            "  Successfully uninstalled scikit-learn-1.0.1\n",
            "Found existing installation: imbalanced-learn 0.8.1\n",
            "Uninstalling imbalanced-learn-0.8.1:\n",
            "  Successfully uninstalled imbalanced-learn-0.8.1\n",
            "Collecting scikit-learn\n",
            "  Downloading scikit_learn-1.0.1-cp37-cp37m-manylinux_2_12_x86_64.manylinux2010_x86_64.whl (23.2 MB)\n",
            "\u001b[K     |████████████████████████████████| 23.2 MB 78 kB/s \n",
            "\u001b[?25hCollecting imbalanced-learn\n",
            "  Downloading imbalanced_learn-0.8.1-py3-none-any.whl (189 kB)\n",
            "\u001b[K     |████████████████████████████████| 189 kB 50.5 MB/s \n",
            "\u001b[?25hRequirement already satisfied: threadpoolctl>=2.0.0 in /usr/local/lib/python3.7/dist-packages (from scikit-learn) (3.0.0)\n",
            "Requirement already satisfied: scipy>=1.1.0 in /usr/local/lib/python3.7/dist-packages (from scikit-learn) (1.4.1)\n",
            "Requirement already satisfied: numpy>=1.14.6 in /usr/local/lib/python3.7/dist-packages (from scikit-learn) (1.19.5)\n",
            "Requirement already satisfied: joblib>=0.11 in /usr/local/lib/python3.7/dist-packages (from scikit-learn) (1.1.0)\n",
            "Installing collected packages: scikit-learn, imbalanced-learn\n",
            "Successfully installed imbalanced-learn-0.8.1 scikit-learn-1.0.1\n"
          ]
        },
        {
          "output_type": "display_data",
          "data": {
            "application/vnd.colab-display-data+json": {
              "pip_warning": {
                "packages": [
                  "imblearn",
                  "sklearn"
                ]
              }
            }
          },
          "metadata": {}
        }
      ]
    },
    {
      "cell_type": "code",
      "metadata": {
        "id": "2RgSW8COlRqK"
      },
      "source": [
        "import matplotlib.pyplot as plt\n",
        "import numpy as np\n",
        "import pandas as pd\n",
        "import seaborn as sns\n",
        "\n",
        "from imblearn.over_sampling import RandomOverSampler, SMOTE\n",
        "from sklearn.model_selection import train_test_split\n",
        "from sklearn.tree import DecisionTreeClassifier\n",
        "from sklearn.ensemble import RandomForestClassifier, BaggingRegressor, AdaBoostClassifier\n",
        "from sklearn.linear_model import SGDRegressor\n",
        "from sklearn import metrics\n",
        "from sklearn.pipeline import make_pipeline\n",
        "from sklearn.preprocessing import StandardScaler\n",
        "from sklearn.utils import class_weight"
      ],
      "execution_count": 10,
      "outputs": []
    },
    {
      "cell_type": "code",
      "metadata": {
        "id": "dPWyLSsyk9uM"
      },
      "source": [
        "def model_validation(ytrue, y_pred):\n",
        "    '''Definition for computing and printing a series of Classification metric scores'''\n",
        "    print(f'Accuracy Score: {metrics.accuracy_score(ytrue, y_pred)}')\n",
        "    print(f'Precision Score: {metrics.precision_score(ytrue, y_pred, average=\"macro\")}')\n",
        "    print(f'Recall Score: {metrics.recall_score(ytrue, y_pred, average=\"macro\")}')\n",
        "    print(f'F1 Score: {metrics.f1_score(ytrue, y_pred, average=\"macro\")}')"
      ],
      "execution_count": 11,
      "outputs": []
    },
    {
      "cell_type": "code",
      "metadata": {
        "colab": {
          "base_uri": "https://localhost:8080/"
        },
        "id": "ftmjOXujkF9g",
        "outputId": "44c32231-ea78-4a88-e707-df0c3e93e139"
      },
      "source": [
        "# Set parameter for max number of features for Random Forest\n",
        "from sklearn.ensemble import RandomForestClassifier, BaggingRegressor, AdaBoostClassifier\n",
        "\n",
        "features = df[['Hotel stars', 'Dummy Pool', 'Dummy Free Internet', 'Dummy Spa', 'Dummy Gym']]\n",
        "target = df['Score']\n",
        "\n",
        "xtrain, xtest, ytrain, ytrue = train_test_split(features, target)\n",
        "\n",
        "\n",
        "m = np.int64(np.sqrt(features.shape[1]))\n",
        "print(m)\n",
        "\n",
        "# Set up our Random Forest\n",
        "random_forest = RandomForestClassifier(max_samples=0.75, oob_score=True)\n",
        "random_forest.fit(xtrain, ytrain)\n",
        "\n",
        "y_pred = random_forest.predict(xtest)\n",
        "\n",
        "model_validation(ytrue, y_pred)\n",
        "\n",
        "random_forest.feature_names_in_"
      ],
      "execution_count": 28,
      "outputs": [
        {
          "output_type": "stream",
          "name": "stdout",
          "text": [
            "2\n",
            "Accuracy Score: 0.5079365079365079\n",
            "Precision Score: 0.20109038737446197\n",
            "Recall Score: 0.25433715220949266\n",
            "F1 Score: 0.21937624419376248\n"
          ]
        },
        {
          "output_type": "stream",
          "name": "stderr",
          "text": [
            "/usr/local/lib/python3.7/dist-packages/sklearn/base.py:446: UserWarning: X does not have valid feature names, but RandomForestClassifier was fitted with feature names\n",
            "  \"X does not have valid feature names, but\"\n",
            "/usr/local/lib/python3.7/dist-packages/sklearn/metrics/_classification.py:1308: UndefinedMetricWarning: Precision is ill-defined and being set to 0.0 in labels with no predicted samples. Use `zero_division` parameter to control this behavior.\n",
            "  _warn_prf(average, modifier, msg_start, len(result))\n"
          ]
        },
        {
          "output_type": "execute_result",
          "data": {
            "text/plain": [
              "array(['Hotel stars', 'Dummy Pool', 'Dummy Free Internet', 'Dummy Spa',\n",
              "       'Dummy Gym'], dtype=object)"
            ]
          },
          "metadata": {},
          "execution_count": 28
        }
      ]
    },
    {
      "cell_type": "code",
      "metadata": {
        "id": "ajePwZuinTGJ",
        "colab": {
          "base_uri": "https://localhost:8080/",
          "height": 279
        },
        "outputId": "75ba3b79-735f-4f2a-e35a-6a70f750763a"
      },
      "source": [
        "from sklearn.metrics import confusion_matrix\n",
        "\n",
        "# Confusion matrix function makes easy work of obtaining matrix\n",
        "mat = confusion_matrix(ytrue, y_pred)\n",
        "\n",
        "# Use seaborn to make a heatmap of the confusion matrix\n",
        "sns.heatmap(mat.T, square=True, annot=True, fmt='d', cbar=False,\n",
        "            xticklabels=model.classes_, yticklabels=model.classes_, cmap=plt.cm.BuPu)\n",
        "plt.xlabel('true label')\n",
        "plt.ylabel('predicted label');"
      ],
      "execution_count": 30,
      "outputs": [
        {
          "output_type": "display_data",
          "data": {
            "image/png": "[encoded data removed]",
            "text/plain": [
              "<Figure size 432x288 with 1 Axes>"
            ]
          },
          "metadata": {
            "needs_background": "light"
          }
        }
      ]
    },
    {
      "cell_type": "code",
      "metadata": {
        "id": "eowgPhJ9tlTn",
        "colab": {
          "base_uri": "https://localhost:8080/",
          "height": 279
        },
        "outputId": "6b3649ef-0238-4ab2-b6f0-8e78ec4f9edd"
      },
      "source": [
        "from sklearn.metrics import confusion_matrix\n",
        "\n",
        "# Confusion matrix function makes easy work of obtaining matrix\n",
        "mat = confusion_matrix(ytrue, y_pred)\n",
        "\n",
        "# Use seaborn to make a heatmap of the confusion matrix\n",
        "sns.heatmap(mat.T, square=True, annot=True, fmt='d', cbar=False,\n",
        "            xticklabels=model.classes_, yticklabels=model.classes_, cmap=plt.cm.BuPu)\n",
        "plt.xlabel('true label')\n",
        "plt.ylabel('predicted label');"
      ],
      "execution_count": null,
      "outputs": [
        {
          "output_type": "display_data",
          "data": {
            "image/png": "[encoded data removed]",
            "text/plain": [
              "<Figure size 432x288 with 1 Axes>"
            ]
          },
          "metadata": {
            "needs_background": "light"
          }
        }
      ]
    },
    {
      "cell_type": "markdown",
      "metadata": {
        "id": "_UyZ-fPGntGK"
      },
      "source": [
        "# Over Sampling the Data"
      ]
    },
    {
      "cell_type": "code",
      "metadata": {
        "id": "60Gvo3ijnyxo",
        "colab": {
          "base_uri": "https://localhost:8080/"
        },
        "outputId": "4af49182-5085-467d-8a68-ea82606253ad"
      },
      "source": [
        "features = df[['Hotel stars', 'Dummy Pool', 'Dummy Free Internet', 'Dummy Spa', 'Dummy Gym']]\n",
        "target = df['Score']\n",
        "\n",
        "xtrain, xtest, ytrain, ytrue = train_test_split(features, target)\n",
        "\n",
        "ros = RandomOverSampler()#random_state=42)\n",
        "X_resampled, y_resampled = ros.fit_resample(xtrain, ytrain)\n",
        "\n",
        "model = DecisionTreeClassifier()#random_state=5)\n",
        "\n",
        "model.fit(X_resampled, y_resampled)\n",
        "\n",
        "y_pred = model.predict(xtest)\n",
        "\n",
        "model_validation(ytrue, y_pred)"
      ],
      "execution_count": 31,
      "outputs": [
        {
          "output_type": "stream",
          "name": "stdout",
          "text": [
            "Accuracy Score: 0.373015873015873\n",
            "Precision Score: 0.2061846728151076\n",
            "Recall Score: 0.29373737373737374\n",
            "F1 Score: 0.23039711295146076\n"
          ]
        },
        {
          "output_type": "stream",
          "name": "stderr",
          "text": [
            "/usr/local/lib/python3.7/dist-packages/sklearn/metrics/_classification.py:1308: UndefinedMetricWarning: Precision is ill-defined and being set to 0.0 in labels with no predicted samples. Use `zero_division` parameter to control this behavior.\n",
            "  _warn_prf(average, modifier, msg_start, len(result))\n"
          ]
        }
      ]
    },
    {
      "cell_type": "code",
      "metadata": {
        "id": "K8OXpeYqotuM"
      },
      "source": [
        "from imblearn.over_sampling import RandomOverSampler, SMOTE\n",
        "from imblearn.under_sampling import RandomUnderSampler\n",
        "import matplotlib.pyplot as plt\n",
        "import numpy as np\n",
        "import pandas as pd\n",
        "import seaborn as sns\n",
        "from sklearn.tree import DecisionTreeClassifier\n",
        "from sklearn.linear_model import LogisticRegression\n",
        "from sklearn.model_selection import train_test_split\n",
        "from sklearn.preprocessing import StandardScaler\n",
        "from sklearn import metrics\n",
        "from sklearn.utils import class_weight"
      ],
      "execution_count": 19,
      "outputs": []
    },
    {
      "cell_type": "markdown",
      "metadata": {
        "id": "e8qc8qp9q1l8"
      },
      "source": [
        "# Under Sampling"
      ]
    },
    {
      "cell_type": "code",
      "metadata": {
        "id": "ra1p-XWqpIFm",
        "colab": {
          "base_uri": "https://localhost:8080/"
        },
        "outputId": "ae22a49a-cb69-43ff-ef8e-10b803b028cb"
      },
      "source": [
        "# logistic regression object\n",
        "lr = LogisticRegression()\n",
        " \n",
        "# train the model on train set\n",
        "lr.fit(xtrain, ytrain.ravel())\n",
        " \n",
        "predictions = lr.predict(xtest)\n",
        " \n",
        "# print classification report\n",
        "print(metrics.classification_report(ytrue, predictions))"
      ],
      "execution_count": 33,
      "outputs": [
        {
          "output_type": "stream",
          "name": "stdout",
          "text": [
            "              precision    recall  f1-score   support\n",
            "\n",
            "           1       0.00      0.00      0.00         5\n",
            "           2       0.00      0.00      0.00        11\n",
            "           3       0.00      0.00      0.00        18\n",
            "           4       0.22      0.25      0.24        32\n",
            "           5       0.51      0.77      0.61        60\n",
            "\n",
            "    accuracy                           0.43       126\n",
            "   macro avg       0.15      0.20      0.17       126\n",
            "weighted avg       0.30      0.43      0.35       126\n",
            "\n"
          ]
        },
        {
          "output_type": "stream",
          "name": "stderr",
          "text": [
            "/usr/local/lib/python3.7/dist-packages/sklearn/linear_model/_logistic.py:818: ConvergenceWarning: lbfgs failed to converge (status=1):\n",
            "STOP: TOTAL NO. of ITERATIONS REACHED LIMIT.\n",
            "\n",
            "Increase the number of iterations (max_iter) or scale the data as shown in:\n",
            "    https://scikit-learn.org/stable/modules/preprocessing.html\n",
            "Please also refer to the documentation for alternative solver options:\n",
            "    https://scikit-learn.org/stable/modules/linear_model.html#logistic-regression\n",
            "  extra_warning_msg=_LOGISTIC_SOLVER_CONVERGENCE_MSG,\n",
            "/usr/local/lib/python3.7/dist-packages/sklearn/metrics/_classification.py:1308: UndefinedMetricWarning: Precision and F-score are ill-defined and being set to 0.0 in labels with no predicted samples. Use `zero_division` parameter to control this behavior.\n",
            "  _warn_prf(average, modifier, msg_start, len(result))\n",
            "/usr/local/lib/python3.7/dist-packages/sklearn/metrics/_classification.py:1308: UndefinedMetricWarning: Precision and F-score are ill-defined and being set to 0.0 in labels with no predicted samples. Use `zero_division` parameter to control this behavior.\n",
            "  _warn_prf(average, modifier, msg_start, len(result))\n",
            "/usr/local/lib/python3.7/dist-packages/sklearn/metrics/_classification.py:1308: UndefinedMetricWarning: Precision and F-score are ill-defined and being set to 0.0 in labels with no predicted samples. Use `zero_division` parameter to control this behavior.\n",
            "  _warn_prf(average, modifier, msg_start, len(result))\n"
          ]
        }
      ]
    },
    {
      "cell_type": "code",
      "metadata": {
        "id": "aVdrEohEp7-4"
      },
      "source": [
        "sm = SMOTE(sampling_strategy='minority', random_state = 2)\n",
        "xtrain_res, ytrain_res = sm.fit_resample(xtrain, ytrain)"
      ],
      "execution_count": null,
      "outputs": []
    },
    {
      "cell_type": "code",
      "metadata": {
        "id": "_rbLxJi_qEpV"
      },
      "source": [
        "print(xtrain_res.shape)\n",
        "print(ytrain_res.shape)"
      ],
      "execution_count": null,
      "outputs": []
    },
    {
      "cell_type": "code",
      "metadata": {
        "id": "6B18fqvyqJDX"
      },
      "source": [
        "lr1 = LogisticRegression()\n",
        "lr1.fit(xtrain_res, ytrain_res)\n",
        "predictions = lr1.predict(xtest)\n",
        " \n",
        "# print classification report\n",
        "print(metrics.classification_report(ytest, predictions))"
      ],
      "execution_count": null,
      "outputs": []
    },
    {
      "cell_type": "code",
      "metadata": {
        "id": "YKVaLVXfqi4U"
      },
      "source": [
        "predictions = (lr1.predict_proba(xtest)[:,1]>=0.7).astype(int)\n",
        " \n",
        "# print classification report\n",
        "print(metrics.classification_report(ytest, predictions))"
      ],
      "execution_count": null,
      "outputs": []
    },
    {
      "cell_type": "markdown",
      "metadata": {
        "id": "-vV5eGpfrCQM"
      },
      "source": [
        "# Ada Boost"
      ]
    },
    {
      "cell_type": "code",
      "metadata": {
        "id": "EhD6DQ6Uq5NU"
      },
      "source": [
        "adaboost = AdaBoostClassifier(base_estimator=RandomForestClassifier(max_features=m, max_samples=.75),\n",
        "                              learning_rate=.1, n_estimators=25, random_state=1)\n",
        "\n",
        "adaboost.fit(xtrain, ytrain)\n",
        "\n",
        "y_pred = adaboost.predict(xtest)\n",
        "\n",
        "model_validation(ytest, y_pred)"
      ],
      "execution_count": null,
      "outputs": []
    },
    {
      "cell_type": "code",
      "metadata": {
        "id": "oqaiS4ubrTgT"
      },
      "source": [
        ""
      ],
      "execution_count": null,
      "outputs": []
    }
  ]
}